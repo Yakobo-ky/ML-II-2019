{
 "cells": [
  {
   "cell_type": "markdown",
   "metadata": {},
   "source": [
    "## Imbalanced Data"
   ]
  },
  {
   "cell_type": "markdown",
   "metadata": {},
   "source": [
    "1. Imbalanced data refers to classification tasks where the classes are not represented equally."
   ]
  },
  {
   "cell_type": "markdown",
   "metadata": {},
   "source": [
    "2. why doing?.\n",
    "\n",
    "       You need to deal with imbalanced data set when the value of finding the minority class is much\n",
    "       higher than that of finding the majority"
   ]
  },
  {
   "cell_type": "markdown",
   "metadata": {},
   "source": [
    "3. what data are imbalanced?\n",
    "\n",
    "      data that need to be balanced are divided into two cases:\n",
    "      \n",
    "       i. In a two-class classification problem, let’s say you have 100k data points. It is                     imbalanced if only 10k data points are from class 1 and rest of them are from class 2. The           distribution ratio here is 1:9 hence its not balanced.\n",
    "       \n",
    "       ii. In a multi-class classification, the distribution of data points are dominated by a few             classes. In this case, the dataset is imbalanced."
   ]
  },
  {
   "cell_type": "markdown",
   "metadata": {},
   "source": [
    "Methods to solve imbalance.\n",
    "\n",
    "There are many methods but few are:\n",
    "\n",
    "    i.Re-sampling the dataset:is the process increasing the samples of the minority class or               decreasing the samples of the majority class to obtain a fair balance in the number of               instances for both the classes.it is divided into two types:\n",
    "    \n",
    "        a. Over-sampling in which we add copies of instances from the minority class.\n",
    "        b. Under-sampling in which we delete instances from the majority class.\n",
    "        \n",
    "    ii. Changing Your Performance Metric.\n",
    "  \n",
    "    iii.Using different algorithms.\n",
    " \n",
    "    iv.Try generating synthetic samples: A simple way to create synthetic samples is to sample the           attributes from instances in the minority class randomly.Algorithms like SMOTE can do this. "
   ]
  },
  {
   "cell_type": "markdown",
   "metadata": {},
   "source": [
    "## <div style = \"color: magenta;\">Data Exploration</div>"
   ]
  },
  {
   "cell_type": "code",
   "execution_count": 1,
   "metadata": {},
   "outputs": [],
   "source": [
    "import pandas as pd\n",
    "import numpy as np\n",
    "import seaborn as sns\n",
    "import matplotlib.pyplot as plt\n",
    "import warnings\n",
    "%matplotlib inline\n",
    "warnings.filterwarnings('ignore')"
   ]
  },
  {
   "cell_type": "code",
   "execution_count": 2,
   "metadata": {},
   "outputs": [],
   "source": [
    "data = pd.read_csv('train_data_week_1_challenge.csv')"
   ]
  },
  {
   "cell_type": "code",
   "execution_count": 3,
   "metadata": {},
   "outputs": [
    {
     "data": {
      "text/html": [
       "<div>\n",
       "<style scoped>\n",
       "    .dataframe tbody tr th:only-of-type {\n",
       "        vertical-align: middle;\n",
       "    }\n",
       "\n",
       "    .dataframe tbody tr th {\n",
       "        vertical-align: top;\n",
       "    }\n",
       "\n",
       "    .dataframe thead th {\n",
       "        text-align: right;\n",
       "    }\n",
       "</style>\n",
       "<table border=\"1\" class=\"dataframe\">\n",
       "  <thead>\n",
       "    <tr style=\"text-align: right;\">\n",
       "      <th></th>\n",
       "      <th>continue_drop</th>\n",
       "      <th>student_id</th>\n",
       "      <th>gender</th>\n",
       "      <th>caste</th>\n",
       "      <th>mathematics_marks</th>\n",
       "      <th>english_marks</th>\n",
       "      <th>science_marks</th>\n",
       "      <th>science_teacher</th>\n",
       "      <th>languages_teacher</th>\n",
       "      <th>guardian</th>\n",
       "      <th>internet</th>\n",
       "      <th>school_id</th>\n",
       "      <th>total_students</th>\n",
       "      <th>total_toilets</th>\n",
       "      <th>establishment_year</th>\n",
       "    </tr>\n",
       "  </thead>\n",
       "  <tbody>\n",
       "    <tr>\n",
       "      <th>0</th>\n",
       "      <td>continue</td>\n",
       "      <td>s01746</td>\n",
       "      <td>M</td>\n",
       "      <td>BC</td>\n",
       "      <td>0.666</td>\n",
       "      <td>0.468</td>\n",
       "      <td>0.666</td>\n",
       "      <td>7</td>\n",
       "      <td>6</td>\n",
       "      <td>other</td>\n",
       "      <td>True</td>\n",
       "      <td>305</td>\n",
       "      <td>354</td>\n",
       "      <td>86.0</td>\n",
       "      <td>1986.0</td>\n",
       "    </tr>\n",
       "    <tr>\n",
       "      <th>1</th>\n",
       "      <td>continue</td>\n",
       "      <td>s16986</td>\n",
       "      <td>M</td>\n",
       "      <td>BC</td>\n",
       "      <td>0.172</td>\n",
       "      <td>0.420</td>\n",
       "      <td>0.172</td>\n",
       "      <td>8</td>\n",
       "      <td>10</td>\n",
       "      <td>mother</td>\n",
       "      <td>False</td>\n",
       "      <td>331</td>\n",
       "      <td>516</td>\n",
       "      <td>15.0</td>\n",
       "      <td>1996.0</td>\n",
       "    </tr>\n",
       "    <tr>\n",
       "      <th>2</th>\n",
       "      <td>continue</td>\n",
       "      <td>s00147</td>\n",
       "      <td>F</td>\n",
       "      <td>BC</td>\n",
       "      <td>0.212</td>\n",
       "      <td>0.601</td>\n",
       "      <td>0.212</td>\n",
       "      <td>1</td>\n",
       "      <td>4</td>\n",
       "      <td>mother</td>\n",
       "      <td>False</td>\n",
       "      <td>311</td>\n",
       "      <td>209</td>\n",
       "      <td>14.0</td>\n",
       "      <td>1976.0</td>\n",
       "    </tr>\n",
       "    <tr>\n",
       "      <th>3</th>\n",
       "      <td>continue</td>\n",
       "      <td>s08104</td>\n",
       "      <td>F</td>\n",
       "      <td>ST</td>\n",
       "      <td>0.434</td>\n",
       "      <td>0.611</td>\n",
       "      <td>0.434</td>\n",
       "      <td>2</td>\n",
       "      <td>5</td>\n",
       "      <td>father</td>\n",
       "      <td>True</td>\n",
       "      <td>364</td>\n",
       "      <td>147</td>\n",
       "      <td>28.0</td>\n",
       "      <td>1911.0</td>\n",
       "    </tr>\n",
       "    <tr>\n",
       "      <th>4</th>\n",
       "      <td>continue</td>\n",
       "      <td>s11132</td>\n",
       "      <td>F</td>\n",
       "      <td>SC</td>\n",
       "      <td>0.283</td>\n",
       "      <td>0.478</td>\n",
       "      <td>0.283</td>\n",
       "      <td>1</td>\n",
       "      <td>10</td>\n",
       "      <td>mother</td>\n",
       "      <td>True</td>\n",
       "      <td>394</td>\n",
       "      <td>122</td>\n",
       "      <td>15.0</td>\n",
       "      <td>1889.0</td>\n",
       "    </tr>\n",
       "  </tbody>\n",
       "</table>\n",
       "</div>"
      ],
      "text/plain": [
       "  continue_drop student_id gender caste  mathematics_marks  english_marks  \\\n",
       "0      continue     s01746      M    BC              0.666          0.468   \n",
       "1      continue     s16986      M    BC              0.172          0.420   \n",
       "2      continue     s00147      F    BC              0.212          0.601   \n",
       "3      continue     s08104      F    ST              0.434          0.611   \n",
       "4      continue     s11132      F    SC              0.283          0.478   \n",
       "\n",
       "   science_marks  science_teacher  languages_teacher guardian  internet  \\\n",
       "0          0.666                7                  6    other      True   \n",
       "1          0.172                8                 10   mother     False   \n",
       "2          0.212                1                  4   mother     False   \n",
       "3          0.434                2                  5   father      True   \n",
       "4          0.283                1                 10   mother      True   \n",
       "\n",
       "   school_id  total_students  total_toilets  establishment_year  \n",
       "0        305             354           86.0              1986.0  \n",
       "1        331             516           15.0              1996.0  \n",
       "2        311             209           14.0              1976.0  \n",
       "3        364             147           28.0              1911.0  \n",
       "4        394             122           15.0              1889.0  "
      ]
     },
     "execution_count": 3,
     "metadata": {},
     "output_type": "execute_result"
    }
   ],
   "source": [
    "data.head()"
   ]
  },
  {
   "cell_type": "code",
   "execution_count": 4,
   "metadata": {},
   "outputs": [
    {
     "data": {
      "text/plain": [
       "(17190, 15)"
      ]
     },
     "execution_count": 4,
     "metadata": {},
     "output_type": "execute_result"
    }
   ],
   "source": [
    "data.shape"
   ]
  },
  {
   "cell_type": "code",
   "execution_count": 5,
   "metadata": {},
   "outputs": [
    {
     "data": {
      "text/plain": [
       "continue_drop          object\n",
       "student_id             object\n",
       "gender                 object\n",
       "caste                  object\n",
       "mathematics_marks     float64\n",
       "english_marks         float64\n",
       "science_marks         float64\n",
       "science_teacher         int64\n",
       "languages_teacher       int64\n",
       "guardian               object\n",
       "internet                 bool\n",
       "school_id               int64\n",
       "total_students          int64\n",
       "total_toilets         float64\n",
       "establishment_year    float64\n",
       "dtype: object"
      ]
     },
     "execution_count": 5,
     "metadata": {},
     "output_type": "execute_result"
    }
   ],
   "source": [
    "data.dtypes"
   ]
  },
  {
   "cell_type": "code",
   "execution_count": 6,
   "metadata": {},
   "outputs": [
    {
     "data": {
      "text/html": [
       "<div>\n",
       "<style scoped>\n",
       "    .dataframe tbody tr th:only-of-type {\n",
       "        vertical-align: middle;\n",
       "    }\n",
       "\n",
       "    .dataframe tbody tr th {\n",
       "        vertical-align: top;\n",
       "    }\n",
       "\n",
       "    .dataframe thead th {\n",
       "        text-align: right;\n",
       "    }\n",
       "</style>\n",
       "<table border=\"1\" class=\"dataframe\">\n",
       "  <thead>\n",
       "    <tr style=\"text-align: right;\">\n",
       "      <th></th>\n",
       "      <th>mathematics_marks</th>\n",
       "      <th>english_marks</th>\n",
       "      <th>science_marks</th>\n",
       "      <th>science_teacher</th>\n",
       "      <th>languages_teacher</th>\n",
       "      <th>internet</th>\n",
       "      <th>school_id</th>\n",
       "      <th>total_students</th>\n",
       "      <th>total_toilets</th>\n",
       "      <th>establishment_year</th>\n",
       "    </tr>\n",
       "  </thead>\n",
       "  <tbody>\n",
       "    <tr>\n",
       "      <th>mathematics_marks</th>\n",
       "      <td>1.000000</td>\n",
       "      <td>0.551445</td>\n",
       "      <td>1.000000</td>\n",
       "      <td>0.039414</td>\n",
       "      <td>-0.014302</td>\n",
       "      <td>0.099516</td>\n",
       "      <td>0.003997</td>\n",
       "      <td>0.005824</td>\n",
       "      <td>-0.001682</td>\n",
       "      <td>-0.000346</td>\n",
       "    </tr>\n",
       "    <tr>\n",
       "      <th>english_marks</th>\n",
       "      <td>0.551445</td>\n",
       "      <td>1.000000</td>\n",
       "      <td>0.551445</td>\n",
       "      <td>0.034703</td>\n",
       "      <td>-0.028062</td>\n",
       "      <td>0.083902</td>\n",
       "      <td>0.013396</td>\n",
       "      <td>0.002557</td>\n",
       "      <td>-0.001294</td>\n",
       "      <td>-0.013387</td>\n",
       "    </tr>\n",
       "    <tr>\n",
       "      <th>science_marks</th>\n",
       "      <td>1.000000</td>\n",
       "      <td>0.551445</td>\n",
       "      <td>1.000000</td>\n",
       "      <td>0.039414</td>\n",
       "      <td>-0.014302</td>\n",
       "      <td>0.099516</td>\n",
       "      <td>0.003997</td>\n",
       "      <td>0.005824</td>\n",
       "      <td>-0.001682</td>\n",
       "      <td>-0.000346</td>\n",
       "    </tr>\n",
       "    <tr>\n",
       "      <th>science_teacher</th>\n",
       "      <td>0.039414</td>\n",
       "      <td>0.034703</td>\n",
       "      <td>0.039414</td>\n",
       "      <td>1.000000</td>\n",
       "      <td>0.001497</td>\n",
       "      <td>0.008578</td>\n",
       "      <td>-0.016493</td>\n",
       "      <td>-0.002494</td>\n",
       "      <td>-0.003854</td>\n",
       "      <td>0.010901</td>\n",
       "    </tr>\n",
       "    <tr>\n",
       "      <th>languages_teacher</th>\n",
       "      <td>-0.014302</td>\n",
       "      <td>-0.028062</td>\n",
       "      <td>-0.014302</td>\n",
       "      <td>0.001497</td>\n",
       "      <td>1.000000</td>\n",
       "      <td>-0.055652</td>\n",
       "      <td>0.002478</td>\n",
       "      <td>0.013494</td>\n",
       "      <td>0.021123</td>\n",
       "      <td>-0.004619</td>\n",
       "    </tr>\n",
       "    <tr>\n",
       "      <th>internet</th>\n",
       "      <td>0.099516</td>\n",
       "      <td>0.083902</td>\n",
       "      <td>0.099516</td>\n",
       "      <td>0.008578</td>\n",
       "      <td>-0.055652</td>\n",
       "      <td>1.000000</td>\n",
       "      <td>0.011233</td>\n",
       "      <td>-0.005701</td>\n",
       "      <td>-0.007265</td>\n",
       "      <td>-0.011339</td>\n",
       "    </tr>\n",
       "    <tr>\n",
       "      <th>school_id</th>\n",
       "      <td>0.003997</td>\n",
       "      <td>0.013396</td>\n",
       "      <td>0.003997</td>\n",
       "      <td>-0.016493</td>\n",
       "      <td>0.002478</td>\n",
       "      <td>0.011233</td>\n",
       "      <td>1.000000</td>\n",
       "      <td>-0.126451</td>\n",
       "      <td>-0.168506</td>\n",
       "      <td>-0.023198</td>\n",
       "    </tr>\n",
       "    <tr>\n",
       "      <th>total_students</th>\n",
       "      <td>0.005824</td>\n",
       "      <td>0.002557</td>\n",
       "      <td>0.005824</td>\n",
       "      <td>-0.002494</td>\n",
       "      <td>0.013494</td>\n",
       "      <td>-0.005701</td>\n",
       "      <td>-0.126451</td>\n",
       "      <td>1.000000</td>\n",
       "      <td>0.300946</td>\n",
       "      <td>0.041296</td>\n",
       "    </tr>\n",
       "    <tr>\n",
       "      <th>total_toilets</th>\n",
       "      <td>-0.001682</td>\n",
       "      <td>-0.001294</td>\n",
       "      <td>-0.001682</td>\n",
       "      <td>-0.003854</td>\n",
       "      <td>0.021123</td>\n",
       "      <td>-0.007265</td>\n",
       "      <td>-0.168506</td>\n",
       "      <td>0.300946</td>\n",
       "      <td>1.000000</td>\n",
       "      <td>-0.164720</td>\n",
       "    </tr>\n",
       "    <tr>\n",
       "      <th>establishment_year</th>\n",
       "      <td>-0.000346</td>\n",
       "      <td>-0.013387</td>\n",
       "      <td>-0.000346</td>\n",
       "      <td>0.010901</td>\n",
       "      <td>-0.004619</td>\n",
       "      <td>-0.011339</td>\n",
       "      <td>-0.023198</td>\n",
       "      <td>0.041296</td>\n",
       "      <td>-0.164720</td>\n",
       "      <td>1.000000</td>\n",
       "    </tr>\n",
       "  </tbody>\n",
       "</table>\n",
       "</div>"
      ],
      "text/plain": [
       "                    mathematics_marks  english_marks  science_marks  \\\n",
       "mathematics_marks            1.000000       0.551445       1.000000   \n",
       "english_marks                0.551445       1.000000       0.551445   \n",
       "science_marks                1.000000       0.551445       1.000000   \n",
       "science_teacher              0.039414       0.034703       0.039414   \n",
       "languages_teacher           -0.014302      -0.028062      -0.014302   \n",
       "internet                     0.099516       0.083902       0.099516   \n",
       "school_id                    0.003997       0.013396       0.003997   \n",
       "total_students               0.005824       0.002557       0.005824   \n",
       "total_toilets               -0.001682      -0.001294      -0.001682   \n",
       "establishment_year          -0.000346      -0.013387      -0.000346   \n",
       "\n",
       "                    science_teacher  languages_teacher  internet  school_id  \\\n",
       "mathematics_marks          0.039414          -0.014302  0.099516   0.003997   \n",
       "english_marks              0.034703          -0.028062  0.083902   0.013396   \n",
       "science_marks              0.039414          -0.014302  0.099516   0.003997   \n",
       "science_teacher            1.000000           0.001497  0.008578  -0.016493   \n",
       "languages_teacher          0.001497           1.000000 -0.055652   0.002478   \n",
       "internet                   0.008578          -0.055652  1.000000   0.011233   \n",
       "school_id                 -0.016493           0.002478  0.011233   1.000000   \n",
       "total_students            -0.002494           0.013494 -0.005701  -0.126451   \n",
       "total_toilets             -0.003854           0.021123 -0.007265  -0.168506   \n",
       "establishment_year         0.010901          -0.004619 -0.011339  -0.023198   \n",
       "\n",
       "                    total_students  total_toilets  establishment_year  \n",
       "mathematics_marks         0.005824      -0.001682           -0.000346  \n",
       "english_marks             0.002557      -0.001294           -0.013387  \n",
       "science_marks             0.005824      -0.001682           -0.000346  \n",
       "science_teacher          -0.002494      -0.003854            0.010901  \n",
       "languages_teacher         0.013494       0.021123           -0.004619  \n",
       "internet                 -0.005701      -0.007265           -0.011339  \n",
       "school_id                -0.126451      -0.168506           -0.023198  \n",
       "total_students            1.000000       0.300946            0.041296  \n",
       "total_toilets             0.300946       1.000000           -0.164720  \n",
       "establishment_year        0.041296      -0.164720            1.000000  "
      ]
     },
     "execution_count": 6,
     "metadata": {},
     "output_type": "execute_result"
    }
   ],
   "source": [
    "data.corr(method = 'pearson')"
   ]
  },
  {
   "cell_type": "code",
   "execution_count": 7,
   "metadata": {},
   "outputs": [
    {
     "data": {
      "text/plain": [
       "mathematics_marks     0.013356\n",
       "english_marks         0.048216\n",
       "science_marks         0.013356\n",
       "science_teacher       0.199848\n",
       "languages_teacher     0.109818\n",
       "internet             -1.951330\n",
       "school_id             0.104628\n",
       "total_students        0.293873\n",
       "total_toilets         1.545807\n",
       "establishment_year   -0.242769\n",
       "dtype: float64"
      ]
     },
     "execution_count": 7,
     "metadata": {},
     "output_type": "execute_result"
    }
   ],
   "source": [
    "data.skew()"
   ]
  },
  {
   "cell_type": "markdown",
   "metadata": {},
   "source": [
    "## <div style = \"color: magenta;\">Data cleaning</div>"
   ]
  },
  {
   "cell_type": "code",
   "execution_count": 8,
   "metadata": {},
   "outputs": [
    {
     "data": {
      "text/plain": [
       "continue_drop           0\n",
       "student_id              0\n",
       "gender                  0\n",
       "caste                   0\n",
       "mathematics_marks       0\n",
       "english_marks           0\n",
       "science_marks           0\n",
       "science_teacher         0\n",
       "languages_teacher       0\n",
       "guardian                0\n",
       "internet                0\n",
       "school_id               0\n",
       "total_students          0\n",
       "total_toilets         312\n",
       "establishment_year    312\n",
       "dtype: int64"
      ]
     },
     "execution_count": 8,
     "metadata": {},
     "output_type": "execute_result"
    }
   ],
   "source": [
    "data.isnull().sum()"
   ]
  },
  {
   "cell_type": "code",
   "execution_count": 12,
   "metadata": {},
   "outputs": [],
   "source": [
    "data.total_toilets.fillna(data.total_toilets.mean(),inplace=True)\n",
    "data.establishment_year.fillna(data.establishment_year.mean(),inplace=True)"
   ]
  },
  {
   "cell_type": "code",
   "execution_count": 13,
   "metadata": {},
   "outputs": [],
   "source": [
    "from sklearn.preprocessing import LabelEncoder\n",
    "\n",
    "number = LabelEncoder()\n",
    "data['gender'] = number.fit_transform(data['gender'].astype('str'))\n",
    "data['caste'] = number.fit_transform(data['caste'].astype('str'))\n",
    "data['internet'] = number.fit_transform(data['internet'].astype('str'))\n",
    "data['guardian'] = number.fit_transform(data['guardian'].astype('str'))\n",
    "data['continue_drop'] = number.fit_transform(data['continue_drop'].astype('str'))\n",
    "data['student_id'] = number.fit_transform(data['student_id'].astype('str'))"
   ]
  },
  {
   "cell_type": "code",
   "execution_count": 14,
   "metadata": {},
   "outputs": [
    {
     "data": {
      "text/html": [
       "<div>\n",
       "<style scoped>\n",
       "    .dataframe tbody tr th:only-of-type {\n",
       "        vertical-align: middle;\n",
       "    }\n",
       "\n",
       "    .dataframe tbody tr th {\n",
       "        vertical-align: top;\n",
       "    }\n",
       "\n",
       "    .dataframe thead th {\n",
       "        text-align: right;\n",
       "    }\n",
       "</style>\n",
       "<table border=\"1\" class=\"dataframe\">\n",
       "  <thead>\n",
       "    <tr style=\"text-align: right;\">\n",
       "      <th></th>\n",
       "      <th>continue_drop</th>\n",
       "      <th>student_id</th>\n",
       "      <th>gender</th>\n",
       "      <th>caste</th>\n",
       "      <th>mathematics_marks</th>\n",
       "      <th>english_marks</th>\n",
       "      <th>science_marks</th>\n",
       "      <th>science_teacher</th>\n",
       "      <th>languages_teacher</th>\n",
       "      <th>guardian</th>\n",
       "      <th>internet</th>\n",
       "      <th>school_id</th>\n",
       "      <th>total_students</th>\n",
       "      <th>total_toilets</th>\n",
       "      <th>establishment_year</th>\n",
       "    </tr>\n",
       "  </thead>\n",
       "  <tbody>\n",
       "    <tr>\n",
       "      <th>0</th>\n",
       "      <td>0</td>\n",
       "      <td>6313</td>\n",
       "      <td>1</td>\n",
       "      <td>0</td>\n",
       "      <td>0.666</td>\n",
       "      <td>0.468</td>\n",
       "      <td>0.666</td>\n",
       "      <td>7</td>\n",
       "      <td>6</td>\n",
       "      <td>3</td>\n",
       "      <td>1</td>\n",
       "      <td>305</td>\n",
       "      <td>354</td>\n",
       "      <td>86.0</td>\n",
       "      <td>1986.0</td>\n",
       "    </tr>\n",
       "    <tr>\n",
       "      <th>1</th>\n",
       "      <td>0</td>\n",
       "      <td>5863</td>\n",
       "      <td>1</td>\n",
       "      <td>0</td>\n",
       "      <td>0.172</td>\n",
       "      <td>0.420</td>\n",
       "      <td>0.172</td>\n",
       "      <td>8</td>\n",
       "      <td>10</td>\n",
       "      <td>2</td>\n",
       "      <td>0</td>\n",
       "      <td>331</td>\n",
       "      <td>516</td>\n",
       "      <td>15.0</td>\n",
       "      <td>1996.0</td>\n",
       "    </tr>\n",
       "    <tr>\n",
       "      <th>2</th>\n",
       "      <td>0</td>\n",
       "      <td>3336</td>\n",
       "      <td>0</td>\n",
       "      <td>0</td>\n",
       "      <td>0.212</td>\n",
       "      <td>0.601</td>\n",
       "      <td>0.212</td>\n",
       "      <td>1</td>\n",
       "      <td>4</td>\n",
       "      <td>2</td>\n",
       "      <td>0</td>\n",
       "      <td>311</td>\n",
       "      <td>209</td>\n",
       "      <td>14.0</td>\n",
       "      <td>1976.0</td>\n",
       "    </tr>\n",
       "    <tr>\n",
       "      <th>3</th>\n",
       "      <td>0</td>\n",
       "      <td>14161</td>\n",
       "      <td>0</td>\n",
       "      <td>3</td>\n",
       "      <td>0.434</td>\n",
       "      <td>0.611</td>\n",
       "      <td>0.434</td>\n",
       "      <td>2</td>\n",
       "      <td>5</td>\n",
       "      <td>0</td>\n",
       "      <td>1</td>\n",
       "      <td>364</td>\n",
       "      <td>147</td>\n",
       "      <td>28.0</td>\n",
       "      <td>1911.0</td>\n",
       "    </tr>\n",
       "    <tr>\n",
       "      <th>4</th>\n",
       "      <td>0</td>\n",
       "      <td>17182</td>\n",
       "      <td>0</td>\n",
       "      <td>2</td>\n",
       "      <td>0.283</td>\n",
       "      <td>0.478</td>\n",
       "      <td>0.283</td>\n",
       "      <td>1</td>\n",
       "      <td>10</td>\n",
       "      <td>2</td>\n",
       "      <td>1</td>\n",
       "      <td>394</td>\n",
       "      <td>122</td>\n",
       "      <td>15.0</td>\n",
       "      <td>1889.0</td>\n",
       "    </tr>\n",
       "  </tbody>\n",
       "</table>\n",
       "</div>"
      ],
      "text/plain": [
       "   continue_drop  student_id  gender  caste  mathematics_marks  english_marks  \\\n",
       "0              0        6313       1      0              0.666          0.468   \n",
       "1              0        5863       1      0              0.172          0.420   \n",
       "2              0        3336       0      0              0.212          0.601   \n",
       "3              0       14161       0      3              0.434          0.611   \n",
       "4              0       17182       0      2              0.283          0.478   \n",
       "\n",
       "   science_marks  science_teacher  languages_teacher  guardian  internet  \\\n",
       "0          0.666                7                  6         3         1   \n",
       "1          0.172                8                 10         2         0   \n",
       "2          0.212                1                  4         2         0   \n",
       "3          0.434                2                  5         0         1   \n",
       "4          0.283                1                 10         2         1   \n",
       "\n",
       "   school_id  total_students  total_toilets  establishment_year  \n",
       "0        305             354           86.0              1986.0  \n",
       "1        331             516           15.0              1996.0  \n",
       "2        311             209           14.0              1976.0  \n",
       "3        364             147           28.0              1911.0  \n",
       "4        394             122           15.0              1889.0  "
      ]
     },
     "execution_count": 14,
     "metadata": {},
     "output_type": "execute_result"
    }
   ],
   "source": [
    "data.head()"
   ]
  },
  {
   "cell_type": "code",
   "execution_count": 15,
   "metadata": {},
   "outputs": [
    {
     "data": {
      "text/plain": [
       "array([[<matplotlib.axes._subplots.AxesSubplot object at 0x0000024AB9EAB550>,\n",
       "        <matplotlib.axes._subplots.AxesSubplot object at 0x0000024ABAAA5048>,\n",
       "        <matplotlib.axes._subplots.AxesSubplot object at 0x0000024ABAACE2B0>,\n",
       "        <matplotlib.axes._subplots.AxesSubplot object at 0x0000024ABAAF4518>],\n",
       "       [<matplotlib.axes._subplots.AxesSubplot object at 0x0000024ABAB1BA90>,\n",
       "        <matplotlib.axes._subplots.AxesSubplot object at 0x0000024ABAB4C048>,\n",
       "        <matplotlib.axes._subplots.AxesSubplot object at 0x0000024ABAB725C0>,\n",
       "        <matplotlib.axes._subplots.AxesSubplot object at 0x0000024ABAB99B70>],\n",
       "       [<matplotlib.axes._subplots.AxesSubplot object at 0x0000024ABAB99BA8>,\n",
       "        <matplotlib.axes._subplots.AxesSubplot object at 0x0000024ABABEF668>,\n",
       "        <matplotlib.axes._subplots.AxesSubplot object at 0x0000024ABAC17BE0>,\n",
       "        <matplotlib.axes._subplots.AxesSubplot object at 0x0000024ABAC49198>],\n",
       "       [<matplotlib.axes._subplots.AxesSubplot object at 0x0000024ABAC6E710>,\n",
       "        <matplotlib.axes._subplots.AxesSubplot object at 0x0000024ABAC95C88>,\n",
       "        <matplotlib.axes._subplots.AxesSubplot object at 0x0000024ABACC9240>,\n",
       "        <matplotlib.axes._subplots.AxesSubplot object at 0x0000024ABACEE7B8>]],\n",
       "      dtype=object)"
      ]
     },
     "execution_count": 15,
     "metadata": {},
     "output_type": "execute_result"
    },
    {
     "data": {
      "image/png": "[encoded data removed]",
      "text/plain": [
       "<Figure size 1080x648 with 16 Axes>"
      ]
     },
     "metadata": {
      "needs_background": "light"
     },
     "output_type": "display_data"
    }
   ],
   "source": [
    "data.hist(figsize = (15,9))"
   ]
  },
  {
   "cell_type": "code",
   "execution_count": 16,
   "metadata": {},
   "outputs": [
    {
     "data": {
      "image/png": "[encoded data removed]",
      "text/plain": [
       "<Figure size 432x288 with 1 Axes>"
      ]
     },
     "metadata": {
      "needs_background": "light"
     },
     "output_type": "display_data"
    }
   ],
   "source": [
    "fig, ax = plt.subplots()\n",
    "sns.boxplot(data=data, orient='v')\n",
    "plt.show()"
   ]
  },
  {
   "cell_type": "code",
   "execution_count": 17,
   "metadata": {},
   "outputs": [
    {
     "data": {
      "text/plain": [
       "Index(['continue_drop', 'student_id', 'gender', 'caste', 'mathematics_marks',\n",
       "       'english_marks', 'science_marks', 'science_teacher',\n",
       "       'languages_teacher', 'guardian', 'internet', 'school_id',\n",
       "       'total_students', 'total_toilets', 'establishment_year'],\n",
       "      dtype='object')"
      ]
     },
     "execution_count": 17,
     "metadata": {},
     "output_type": "execute_result"
    }
   ],
   "source": [
    "data.columns"
   ]
  },
  {
   "cell_type": "code",
   "execution_count": 18,
   "metadata": {},
   "outputs": [
    {
     "name": "stdout",
     "output_type": "stream",
     "text": [
      "Inter quatile range:  60.0\n",
      "Whisker            :  1881.0\n"
     ]
    }
   ],
   "source": [
    "Q3, Q1 = np.percentile(data['establishment_year'], [75, 25])\n",
    "iqr = Q3 - Q1\n",
    "whisker = Q3 - (1.5*iqr)\n",
    "print('Inter quatile range: ', iqr)\n",
    "print('Whisker            : ', whisker)\n",
    "\n",
    "data['establishment_year'] = data['establishment_year'].clip(lower=whisker)"
   ]
  },
  {
   "cell_type": "code",
   "execution_count": 19,
   "metadata": {},
   "outputs": [
    {
     "name": "stdout",
     "output_type": "stream",
     "text": [
      "Inter quatile range:  14.0\n",
      "Whisker            :  7.0\n"
     ]
    }
   ],
   "source": [
    "Q3, Q1 = np.percentile(data['total_toilets'], [75, 25])\n",
    "iqr = Q3 - Q1\n",
    "whisker = Q3 - (1.5*iqr)\n",
    "print('Inter quatile range: ', iqr)\n",
    "print('Whisker            : ', whisker)\n",
    "\n",
    "data['total_toilets'] = data['total_toilets'].clip(lower=whisker)"
   ]
  },
  {
   "cell_type": "code",
   "execution_count": 20,
   "metadata": {},
   "outputs": [
    {
     "name": "stdout",
     "output_type": "stream",
     "text": [
      "Inter quatile range:  14.0\n",
      "Whisker            :  49.0\n"
     ]
    }
   ],
   "source": [
    "Q3, Q1 = np.percentile(data['total_toilets'], [75, 25])\n",
    "iqr = Q3 - Q1\n",
    "whisker = Q3 + (1.5*iqr)\n",
    "print('Inter quatile range: ', iqr)\n",
    "print('Whisker            : ', whisker)\n",
    "\n",
    "data['total_toilets'] = data['total_toilets'].clip(upper=whisker)"
   ]
  },
  {
   "cell_type": "code",
   "execution_count": 21,
   "metadata": {},
   "outputs": [
    {
     "name": "stdout",
     "output_type": "stream",
     "text": [
      "Inter quatile range:  0.21700000000000003\n",
      "Whisker            :  0.3415\n"
     ]
    }
   ],
   "source": [
    "Q3, Q1 = np.percentile(data['english_marks'], [75, 25])\n",
    "iqr = Q3 - Q1\n",
    "whisker = Q3 - (1.5*iqr)\n",
    "print('Inter quatile range: ', iqr)\n",
    "print('Whisker            : ', whisker)\n",
    "\n",
    "data['english_marks'] = data['english_marks'].clip(lower=whisker)"
   ]
  },
  {
   "cell_type": "code",
   "execution_count": 22,
   "metadata": {},
   "outputs": [
    {
     "name": "stdout",
     "output_type": "stream",
     "text": [
      "Inter quatile range:  0.0\n",
      "Whisker            :  2.0\n"
     ]
    }
   ],
   "source": [
    "Q3, Q1 = np.percentile(data['guardian'], [75, 25])\n",
    "iqr = Q3 - Q1\n",
    "whisker = Q3 - (1.5*iqr)\n",
    "print('Inter quatile range: ', iqr)\n",
    "print('Whisker            : ', whisker)\n",
    "\n",
    "data['guardian'] = data['guardian'].clip(lower=whisker)"
   ]
  },
  {
   "cell_type": "code",
   "execution_count": 23,
   "metadata": {},
   "outputs": [
    {
     "name": "stdout",
     "output_type": "stream",
     "text": [
      "Inter quatile range:  0.0\n",
      "Whisker            :  1.0\n"
     ]
    }
   ],
   "source": [
    "Q3, Q1 = np.percentile(data['internet'], [75, 25])\n",
    "iqr = Q3 - Q1\n",
    "whisker = Q3 - (1.5*iqr)\n",
    "print('Inter quatile range: ', iqr)\n",
    "print('Whisker            : ', whisker)\n",
    "\n",
    "data['internet'] = data['internet'].clip(lower=whisker)"
   ]
  },
  {
   "cell_type": "code",
   "execution_count": 24,
   "metadata": {},
   "outputs": [
    {
     "data": {
      "image/png": "[encoded data removed]",
      "text/plain": [
       "<Figure size 432x288 with 1 Axes>"
      ]
     },
     "metadata": {
      "needs_background": "light"
     },
     "output_type": "display_data"
    }
   ],
   "source": [
    "fig, ax = plt.subplots()\n",
    "sns.boxplot(data=data, orient='v')\n",
    "plt.show()"
   ]
  },
  {
   "cell_type": "markdown",
   "metadata": {},
   "source": [
    "### <div style = \"color: magenta;\">Checking imbalance</div>"
   ]
  },
  {
   "cell_type": "code",
   "execution_count": 25,
   "metadata": {},
   "outputs": [
    {
     "data": {
      "text/plain": [
       "0    16384\n",
       "1      806\n",
       "Name: continue_drop, dtype: int64"
      ]
     },
     "execution_count": 25,
     "metadata": {},
     "output_type": "execute_result"
    }
   ],
   "source": [
    "data['continue_drop'].value_counts()"
   ]
  },
  {
   "cell_type": "code",
   "execution_count": 36,
   "metadata": {},
   "outputs": [
    {
     "data": {
      "text/plain": [
       "<matplotlib.axes._subplots.AxesSubplot at 0x24abafb6940>"
      ]
     },
     "execution_count": 36,
     "metadata": {},
     "output_type": "execute_result"
    },
    {
     "data": {
      "image/png": "[encoded data removed]",
      "text/plain": [
       "<Figure size 432x432 with 1 Axes>"
      ]
     },
     "metadata": {
      "needs_background": "light"
     },
     "output_type": "display_data"
    }
   ],
   "source": [
    "plt.figure(figsize=(6, 6))\n",
    "sns.countplot('continue_drop', data=data)"
   ]
  },
  {
   "cell_type": "markdown",
   "metadata": {},
   "source": [
    "### <div style = \"color: magenta;\">Undersampling the feature to make balance</div>"
   ]
  },
  {
   "cell_type": "code",
   "execution_count": 37,
   "metadata": {},
   "outputs": [],
   "source": [
    "# Shuffle the Dataset.\n",
    "shuffled_df = data.sample(frac=1,random_state=4)\n",
    "\n",
    "# amount of fraud classes 492 rows.\n",
    "fraud_df = shuffled_df.loc[shuffled_df['continue_drop'] == 1]\n",
    "\n",
    "#Randomly select 492 observations.\n",
    "non_fraud_df = shuffled_df.loc[shuffled_df['continue_drop'] == 0].sample(n=806,random_state=42)\n",
    "data_b = pd.concat([fraud_df, non_fraud_df])"
   ]
  },
  {
   "cell_type": "code",
   "execution_count": 35,
   "metadata": {},
   "outputs": [
    {
     "data": {
      "image/png": "[encoded data removed]",
      "text/plain": [
       "<Figure size 576x576 with 1 Axes>"
      ]
     },
     "metadata": {
      "needs_background": "light"
     },
     "output_type": "display_data"
    }
   ],
   "source": [
    "plt.figure(figsize=(6, 6))\n",
    "sns.countplot('continue_drop', data=data_b)\n",
    "plt.title('Balanced Classes')\n",
    "plt.show()"
   ]
  },
  {
   "cell_type": "markdown",
   "metadata": {},
   "source": [
    "## <div style = \"color: magenta;\">Model selection</div>"
   ]
  },
  {
   "cell_type": "code",
   "execution_count": 38,
   "metadata": {},
   "outputs": [
    {
     "data": {
      "text/plain": [
       "Index(['continue_drop', 'student_id', 'gender', 'caste', 'mathematics_marks',\n",
       "       'english_marks', 'science_marks', 'science_teacher',\n",
       "       'languages_teacher', 'guardian', 'internet', 'school_id',\n",
       "       'total_students', 'total_toilets', 'establishment_year'],\n",
       "      dtype='object')"
      ]
     },
     "execution_count": 38,
     "metadata": {},
     "output_type": "execute_result"
    }
   ],
   "source": [
    "data.columns"
   ]
  },
  {
   "cell_type": "code",
   "execution_count": 39,
   "metadata": {},
   "outputs": [],
   "source": [
    "features = (['student_id', 'gender', 'caste', 'mathematics_marks',\n",
    "       'english_marks', 'science_marks', 'science_teacher',\n",
    "       'languages_teacher', 'guardian', 'internet', 'school_id',\n",
    "       'total_students', 'total_toilets', 'establishment_year'])"
   ]
  },
  {
   "cell_type": "code",
   "execution_count": 40,
   "metadata": {},
   "outputs": [],
   "source": [
    "target =(['continue_drop'])"
   ]
  },
  {
   "cell_type": "code",
   "execution_count": 41,
   "metadata": {},
   "outputs": [],
   "source": [
    "X = data[features]\n",
    "y = data[target]"
   ]
  },
  {
   "cell_type": "code",
   "execution_count": 42,
   "metadata": {},
   "outputs": [],
   "source": [
    "from sklearn.linear_model import LogisticRegression\n",
    "from sklearn.neighbors import KNeighborsClassifier\n",
    "from sklearn.tree import DecisionTreeClassifier\n",
    "from sklearn.ensemble import RandomForestClassifier\n",
    "from sklearn.ensemble import GradientBoostingClassifier\n",
    "from sklearn.naive_bayes import GaussianNB"
   ]
  },
  {
   "cell_type": "code",
   "execution_count": 43,
   "metadata": {},
   "outputs": [],
   "source": [
    "from sklearn.model_selection import train_test_split\n",
    "from sklearn.model_selection import cross_val_score\n",
    "from sklearn.metrics import f1_score \n",
    "from sklearn.model_selection import StratifiedKFold\n",
    "from sklearn.metrics import confusion_matrix"
   ]
  },
  {
   "cell_type": "code",
   "execution_count": 44,
   "metadata": {},
   "outputs": [],
   "source": [
    "models = []\n",
    "\n",
    "models.append(('LR', LogisticRegression(solver='lbfgs', max_iter=4000)))\n",
    "models.append(('KNN', KNeighborsClassifier()))\n",
    "models.append(('DT', DecisionTreeClassifier()))\n",
    "models.append(('RF', RandomForestClassifier(n_estimators=100)))\n",
    "models.append(('GB', GradientBoostingClassifier()))\n",
    "models.append(('GNB', GaussianNB()))"
   ]
  },
  {
   "cell_type": "code",
   "execution_count": 45,
   "metadata": {},
   "outputs": [],
   "source": [
    "X_train,X_test,y_train,y_test = train_test_split(X,y, test_size=0.25,random_state = 42)"
   ]
  },
  {
   "cell_type": "code",
   "execution_count": 48,
   "metadata": {},
   "outputs": [
    {
     "data": {
      "text/html": [
       "<div>\n",
       "<style scoped>\n",
       "    .dataframe tbody tr th:only-of-type {\n",
       "        vertical-align: middle;\n",
       "    }\n",
       "\n",
       "    .dataframe tbody tr th {\n",
       "        vertical-align: top;\n",
       "    }\n",
       "\n",
       "    .dataframe thead th {\n",
       "        text-align: right;\n",
       "    }\n",
       "</style>\n",
       "<table border=\"1\" class=\"dataframe\">\n",
       "  <thead>\n",
       "    <tr style=\"text-align: right;\">\n",
       "      <th></th>\n",
       "      <th>Model</th>\n",
       "      <th>Accuracy</th>\n",
       "    </tr>\n",
       "  </thead>\n",
       "  <tbody>\n",
       "    <tr>\n",
       "      <th>0</th>\n",
       "      <td>LR</td>\n",
       "      <td>0.000000</td>\n",
       "    </tr>\n",
       "    <tr>\n",
       "      <th>1</th>\n",
       "      <td>KNN</td>\n",
       "      <td>0.000000</td>\n",
       "    </tr>\n",
       "    <tr>\n",
       "      <th>2</th>\n",
       "      <td>DT</td>\n",
       "      <td>1.000000</td>\n",
       "    </tr>\n",
       "    <tr>\n",
       "      <th>3</th>\n",
       "      <td>RF</td>\n",
       "      <td>1.000000</td>\n",
       "    </tr>\n",
       "    <tr>\n",
       "      <th>4</th>\n",
       "      <td>GB</td>\n",
       "      <td>0.968586</td>\n",
       "    </tr>\n",
       "    <tr>\n",
       "      <th>5</th>\n",
       "      <td>GNB</td>\n",
       "      <td>0.000000</td>\n",
       "    </tr>\n",
       "  </tbody>\n",
       "</table>\n",
       "</div>"
      ],
      "text/plain": [
       "  Model  Accuracy\n",
       "0    LR  0.000000\n",
       "1   KNN  0.000000\n",
       "2    DT  1.000000\n",
       "3    RF  1.000000\n",
       "4    GB  0.968586\n",
       "5   GNB  0.000000"
      ]
     },
     "execution_count": 48,
     "metadata": {},
     "output_type": "execute_result"
    }
   ],
   "source": [
    "names = []\n",
    "scores = []\n",
    "\n",
    "for name, model in models:\n",
    "    model.fit(X_train, y_train)\n",
    "    y_pred = model.predict(X_test)\n",
    "    scores.append(f1_score(y_test, y_pred))\n",
    "    names.append(name)\n",
    "\n",
    "results = pd.DataFrame({'Model': names, 'Accuracy': scores})\n",
    "results"
   ]
  },
  {
   "cell_type": "code",
   "execution_count": 49,
   "metadata": {},
   "outputs": [],
   "source": [
    "folds = StratifiedKFold(n_splits=10, random_state=42)"
   ]
  },
  {
   "cell_type": "code",
   "execution_count": 50,
   "metadata": {},
   "outputs": [
    {
     "data": {
      "text/html": [
       "<div>\n",
       "<style scoped>\n",
       "    .dataframe tbody tr th:only-of-type {\n",
       "        vertical-align: middle;\n",
       "    }\n",
       "\n",
       "    .dataframe tbody tr th {\n",
       "        vertical-align: top;\n",
       "    }\n",
       "\n",
       "    .dataframe thead th {\n",
       "        text-align: right;\n",
       "    }\n",
       "</style>\n",
       "<table border=\"1\" class=\"dataframe\">\n",
       "  <thead>\n",
       "    <tr style=\"text-align: right;\">\n",
       "      <th></th>\n",
       "      <th>Model</th>\n",
       "      <th>Accuracy</th>\n",
       "    </tr>\n",
       "  </thead>\n",
       "  <tbody>\n",
       "    <tr>\n",
       "      <th>0</th>\n",
       "      <td>LR</td>\n",
       "      <td>0.953112</td>\n",
       "    </tr>\n",
       "    <tr>\n",
       "      <th>1</th>\n",
       "      <td>KNN</td>\n",
       "      <td>0.952589</td>\n",
       "    </tr>\n",
       "    <tr>\n",
       "      <th>2</th>\n",
       "      <td>DT</td>\n",
       "      <td>1.000000</td>\n",
       "    </tr>\n",
       "    <tr>\n",
       "      <th>3</th>\n",
       "      <td>RF</td>\n",
       "      <td>1.000000</td>\n",
       "    </tr>\n",
       "    <tr>\n",
       "      <th>4</th>\n",
       "      <td>GB</td>\n",
       "      <td>0.997557</td>\n",
       "    </tr>\n",
       "    <tr>\n",
       "      <th>5</th>\n",
       "      <td>GNB</td>\n",
       "      <td>0.952996</td>\n",
       "    </tr>\n",
       "  </tbody>\n",
       "</table>\n",
       "</div>"
      ],
      "text/plain": [
       "  Model  Accuracy\n",
       "0    LR  0.953112\n",
       "1   KNN  0.952589\n",
       "2    DT  1.000000\n",
       "3    RF  1.000000\n",
       "4    GB  0.997557\n",
       "5   GNB  0.952996"
      ]
     },
     "execution_count": 50,
     "metadata": {},
     "output_type": "execute_result"
    }
   ],
   "source": [
    "names = []\n",
    "scores = []\n",
    "\n",
    "for name, model in models:\n",
    "    \n",
    "    score = cross_val_score(model, X, y, cv=folds, scoring='accuracy').mean()\n",
    "    names.append(name)\n",
    "    scores.append(score)\n",
    "\n",
    "results = pd.DataFrame({'Model': names, 'Accuracy': scores})\n",
    "results"
   ]
  },
  {
   "cell_type": "code",
   "execution_count": 51,
   "metadata": {},
   "outputs": [
    {
     "data": {
      "image/png": "[encoded data removed]",
      "text/plain": [
       "<Figure size 432x288 with 1 Axes>"
      ]
     },
     "metadata": {
      "needs_background": "light"
     },
     "output_type": "display_data"
    }
   ],
   "source": [
    "axis = sns.barplot(x ='Model', y ='Accuracy', data = results)\n",
    "axis.set(xlabel='Classifier', ylabel='Accuracy')\n",
    "\n",
    "for p in axis.patches:\n",
    "    height = p.get_height()\n",
    "    axis.text(p.get_x() + p.get_width()/2, height + 0.0005, '{:1.3f}'.format(height), ha=\"center\") \n",
    "    \n",
    "plt.show()"
   ]
  },
  {
   "cell_type": "code",
   "execution_count": 52,
   "metadata": {},
   "outputs": [],
   "source": [
    "from sklearn.feature_selection import RFECV"
   ]
  },
  {
   "cell_type": "code",
   "execution_count": 53,
   "metadata": {},
   "outputs": [
    {
     "data": {
      "image/png": "[encoded data removed]",
      "text/plain": [
       "<Figure size 432x288 with 1 Axes>"
      ]
     },
     "metadata": {
      "needs_background": "light"
     },
     "output_type": "display_data"
    }
   ],
   "source": [
    "gb = GradientBoostingClassifier()\n",
    "\n",
    "classifier = RFECV(estimator=gb, step=1, cv=folds, scoring='accuracy')\n",
    "classifier.fit(X, y)\n",
    "\n",
    "plt.figure()\n",
    "plt.title('GradientBoostingClassifier CV score vs No of Features')\n",
    "plt.xlabel('Number of features selected')\n",
    "plt.ylabel('Cross validation score')\n",
    "plt.plot(range(1, len(classifier.grid_scores_) + 1), classifier.grid_scores_)\n",
    "plt.show()"
   ]
  },
  {
   "cell_type": "code",
   "execution_count": 54,
   "metadata": {},
   "outputs": [
    {
     "data": {
      "text/plain": [
       "[0.9789414758739795,\n",
       " 0.9972079150838772,\n",
       " 0.9972079150838772,\n",
       " 0.9979633906233092,\n",
       " 0.9975566844922481,\n",
       " 0.9986033651893764,\n",
       " 0.9977313738281444,\n",
       " 0.9975572259547383,\n",
       " 0.9975572259547383,\n",
       " 0.9975572259547383,\n",
       " 0.9975572259547383,\n",
       " 0.9975572259547383,\n",
       " 0.9975572259547383,\n",
       " 0.9975572259547383]"
      ]
     },
     "execution_count": 54,
     "metadata": {},
     "output_type": "execute_result"
    }
   ],
   "source": [
    "classifier.grid_scores_.tolist()"
   ]
  },
  {
   "cell_type": "code",
   "execution_count": 55,
   "metadata": {},
   "outputs": [
    {
     "name": "stdout",
     "output_type": "stream",
     "text": [
      "['caste', 'mathematics_marks', 'english_marks', 'science_marks', 'science_teacher', 'languages_teacher']\n"
     ]
    }
   ],
   "source": [
    "feature_importance = list(zip(features, classifier.support_))\n",
    "\n",
    "keys = []\n",
    "new_features = []\n",
    "\n",
    "for key,value in enumerate(feature_importance):\n",
    "    if(value[1]) == True:\n",
    "        new_features.append(value[0])\n",
    "        \n",
    "print(new_features)"
   ]
  },
  {
   "cell_type": "code",
   "execution_count": 56,
   "metadata": {},
   "outputs": [
    {
     "name": "stdout",
     "output_type": "stream",
     "text": [
      "Accuracy without feature selection: 0.99756 \n",
      "Accuracy with feature selection:    0.99820 \n"
     ]
    }
   ],
   "source": [
    "X_new = data[new_features]\n",
    "\n",
    "initial_accuracy = cross_val_score(gb, X, y, cv=folds, scoring='accuracy').mean()\n",
    "print('Accuracy without feature selection: {:.5f} '.format(initial_accuracy))\n",
    "\n",
    "new_accuracy = cross_val_score(gb, X_new, y, cv=folds, scoring='accuracy').mean()\n",
    "print('Accuracy with feature selection:    {:.5f} '.format(new_accuracy))\n",
    "diffrence = new_accuracy - initial_accuracy"
   ]
  }
 ],
 "metadata": {
  "kernelspec": {
   "display_name": "Python 3",
   "language": "python",
   "name": "python3"
  },
  "language_info": {
   "codemirror_mode": {
    "name": "ipython",
    "version": 3
   },
   "file_extension": ".py",
   "mimetype": "text/x-python",
   "name": "python",
   "nbconvert_exporter": "python",
   "pygments_lexer": "ipython3",
   "version": "3.7.3"
  }
 },
 "nbformat": 4,
 "nbformat_minor": 2
}
